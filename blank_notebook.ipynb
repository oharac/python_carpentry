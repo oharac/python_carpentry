{
 "cells": [
  {
   "cell_type": "code",
   "execution_count": 1,
   "metadata": {},
   "outputs": [],
   "source": [
    "import pandas as pd\n",
    "\n",
    "surveys_df = pd.read_csv('data/surveys.csv')"
   ]
  },
  {
   "cell_type": "code",
   "execution_count": 2,
   "metadata": {},
   "outputs": [
    {
     "data": {
      "text/html": [
       "<div>\n",
       "<style scoped>\n",
       "    .dataframe tbody tr th:only-of-type {\n",
       "        vertical-align: middle;\n",
       "    }\n",
       "\n",
       "    .dataframe tbody tr th {\n",
       "        vertical-align: top;\n",
       "    }\n",
       "\n",
       "    .dataframe thead th {\n",
       "        text-align: right;\n",
       "    }\n",
       "</style>\n",
       "<table border=\"1\" class=\"dataframe\">\n",
       "  <thead>\n",
       "    <tr style=\"text-align: right;\">\n",
       "      <th></th>\n",
       "      <th>record_id</th>\n",
       "      <th>month</th>\n",
       "      <th>day</th>\n",
       "      <th>year</th>\n",
       "      <th>plot_id</th>\n",
       "      <th>species_id</th>\n",
       "      <th>sex</th>\n",
       "      <th>hindfoot_length</th>\n",
       "      <th>weight</th>\n",
       "    </tr>\n",
       "  </thead>\n",
       "  <tbody>\n",
       "    <tr>\n",
       "      <th>0</th>\n",
       "      <td>1</td>\n",
       "      <td>7</td>\n",
       "      <td>16</td>\n",
       "      <td>1977</td>\n",
       "      <td>2</td>\n",
       "      <td>NL</td>\n",
       "      <td>M</td>\n",
       "      <td>32.0</td>\n",
       "      <td>NaN</td>\n",
       "    </tr>\n",
       "    <tr>\n",
       "      <th>1</th>\n",
       "      <td>2</td>\n",
       "      <td>7</td>\n",
       "      <td>16</td>\n",
       "      <td>1977</td>\n",
       "      <td>3</td>\n",
       "      <td>NL</td>\n",
       "      <td>M</td>\n",
       "      <td>33.0</td>\n",
       "      <td>NaN</td>\n",
       "    </tr>\n",
       "    <tr>\n",
       "      <th>2</th>\n",
       "      <td>3</td>\n",
       "      <td>7</td>\n",
       "      <td>16</td>\n",
       "      <td>1977</td>\n",
       "      <td>2</td>\n",
       "      <td>DM</td>\n",
       "      <td>F</td>\n",
       "      <td>37.0</td>\n",
       "      <td>NaN</td>\n",
       "    </tr>\n",
       "    <tr>\n",
       "      <th>3</th>\n",
       "      <td>4</td>\n",
       "      <td>7</td>\n",
       "      <td>16</td>\n",
       "      <td>1977</td>\n",
       "      <td>7</td>\n",
       "      <td>DM</td>\n",
       "      <td>M</td>\n",
       "      <td>36.0</td>\n",
       "      <td>NaN</td>\n",
       "    </tr>\n",
       "    <tr>\n",
       "      <th>4</th>\n",
       "      <td>5</td>\n",
       "      <td>7</td>\n",
       "      <td>16</td>\n",
       "      <td>1977</td>\n",
       "      <td>3</td>\n",
       "      <td>DM</td>\n",
       "      <td>M</td>\n",
       "      <td>35.0</td>\n",
       "      <td>NaN</td>\n",
       "    </tr>\n",
       "  </tbody>\n",
       "</table>\n",
       "</div>"
      ],
      "text/plain": [
       "   record_id  month  day  year  plot_id species_id sex  hindfoot_length  \\\n",
       "0          1      7   16  1977        2         NL   M             32.0   \n",
       "1          2      7   16  1977        3         NL   M             33.0   \n",
       "2          3      7   16  1977        2         DM   F             37.0   \n",
       "3          4      7   16  1977        7         DM   M             36.0   \n",
       "4          5      7   16  1977        3         DM   M             35.0   \n",
       "\n",
       "   weight  \n",
       "0     NaN  \n",
       "1     NaN  \n",
       "2     NaN  \n",
       "3     NaN  \n",
       "4     NaN  "
      ]
     },
     "execution_count": 2,
     "metadata": {},
     "output_type": "execute_result"
    }
   ],
   "source": [
    "surveys_df.head()"
   ]
  },
  {
   "cell_type": "code",
   "execution_count": 3,
   "metadata": {},
   "outputs": [
    {
     "data": {
      "text/plain": [
       "record_id            int64\n",
       "month                int64\n",
       "day                  int64\n",
       "year                 int64\n",
       "plot_id              int64\n",
       "species_id          object\n",
       "sex                 object\n",
       "hindfoot_length    float64\n",
       "weight             float64\n",
       "dtype: object"
      ]
     },
     "execution_count": 3,
     "metadata": {},
     "output_type": "execute_result"
    }
   ],
   "source": [
    "surveys_df.dtypes"
   ]
  },
  {
   "cell_type": "code",
   "execution_count": 4,
   "metadata": {},
   "outputs": [
    {
     "data": {
      "text/html": [
       "<div>\n",
       "<style scoped>\n",
       "    .dataframe tbody tr th:only-of-type {\n",
       "        vertical-align: middle;\n",
       "    }\n",
       "\n",
       "    .dataframe tbody tr th {\n",
       "        vertical-align: top;\n",
       "    }\n",
       "\n",
       "    .dataframe thead th {\n",
       "        text-align: right;\n",
       "    }\n",
       "</style>\n",
       "<table border=\"1\" class=\"dataframe\">\n",
       "  <thead>\n",
       "    <tr style=\"text-align: right;\">\n",
       "      <th></th>\n",
       "      <th>record_id</th>\n",
       "      <th>month</th>\n",
       "      <th>day</th>\n",
       "      <th>year</th>\n",
       "      <th>plot_id</th>\n",
       "      <th>species_id</th>\n",
       "      <th>sex</th>\n",
       "      <th>hindfoot_length</th>\n",
       "      <th>weight</th>\n",
       "    </tr>\n",
       "  </thead>\n",
       "  <tbody>\n",
       "    <tr>\n",
       "      <th>35546</th>\n",
       "      <td>35547</td>\n",
       "      <td>12</td>\n",
       "      <td>31</td>\n",
       "      <td>2002</td>\n",
       "      <td>10</td>\n",
       "      <td>RM</td>\n",
       "      <td>F</td>\n",
       "      <td>15.0</td>\n",
       "      <td>14.0</td>\n",
       "    </tr>\n",
       "    <tr>\n",
       "      <th>35547</th>\n",
       "      <td>35548</td>\n",
       "      <td>12</td>\n",
       "      <td>31</td>\n",
       "      <td>2002</td>\n",
       "      <td>7</td>\n",
       "      <td>DO</td>\n",
       "      <td>M</td>\n",
       "      <td>36.0</td>\n",
       "      <td>51.0</td>\n",
       "    </tr>\n",
       "    <tr>\n",
       "      <th>35548</th>\n",
       "      <td>35549</td>\n",
       "      <td>12</td>\n",
       "      <td>31</td>\n",
       "      <td>2002</td>\n",
       "      <td>5</td>\n",
       "      <td>NaN</td>\n",
       "      <td>NaN</td>\n",
       "      <td>NaN</td>\n",
       "      <td>NaN</td>\n",
       "    </tr>\n",
       "  </tbody>\n",
       "</table>\n",
       "</div>"
      ],
      "text/plain": [
       "       record_id  month  day  year  plot_id species_id  sex  hindfoot_length  \\\n",
       "35546      35547     12   31  2002       10         RM    F             15.0   \n",
       "35547      35548     12   31  2002        7         DO    M             36.0   \n",
       "35548      35549     12   31  2002        5        NaN  NaN              NaN   \n",
       "\n",
       "       weight  \n",
       "35546    14.0  \n",
       "35547    51.0  \n",
       "35548     NaN  "
      ]
     },
     "execution_count": 4,
     "metadata": {},
     "output_type": "execute_result"
    }
   ],
   "source": [
    "surveys_df.columns\n",
    "surveys_df.shape\n",
    "surveys_df.head(6)\n",
    "surveys_df.tail(3)"
   ]
  },
  {
   "cell_type": "code",
   "execution_count": 5,
   "metadata": {},
   "outputs": [
    {
     "data": {
      "text/plain": [
       "array(['NL', 'DM', 'PF', 'PE', 'DS', 'PP', 'SH', 'OT', 'DO', 'OX', 'SS',\n",
       "       'OL', 'RM', nan, 'SA', 'PM', 'AH', 'DX', 'AB', 'CB', 'CM', 'CQ',\n",
       "       'RF', 'PC', 'PG', 'PH', 'PU', 'CV', 'UR', 'UP', 'ZL', 'UL', 'CS',\n",
       "       'SC', 'BA', 'SF', 'RO', 'AS', 'SO', 'PI', 'ST', 'CU', 'SU', 'RX',\n",
       "       'PB', 'PL', 'PX', 'CT', 'US'], dtype=object)"
      ]
     },
     "execution_count": 5,
     "metadata": {},
     "output_type": "execute_result"
    }
   ],
   "source": [
    "pd.unique(surveys_df['species_id'])"
   ]
  },
  {
   "cell_type": "code",
   "execution_count": 6,
   "metadata": {},
   "outputs": [
    {
     "data": {
      "text/plain": [
       "24"
      ]
     },
     "execution_count": 6,
     "metadata": {},
     "output_type": "execute_result"
    }
   ],
   "source": [
    "site_names = pd.unique(surveys_df['plot_id'])\n",
    "len(site_names)\n",
    "surveys_df['plot_id'].nunique()\n"
   ]
  },
  {
   "cell_type": "code",
   "execution_count": 7,
   "metadata": {},
   "outputs": [
    {
     "data": {
      "text/plain": [
       "49"
      ]
     },
     "execution_count": 7,
     "metadata": {},
     "output_type": "execute_result"
    }
   ],
   "source": [
    "species_ids = pd.unique(surveys_df['species_id'])\n",
    "len(species_ids)"
   ]
  },
  {
   "cell_type": "code",
   "execution_count": 8,
   "metadata": {},
   "outputs": [
    {
     "data": {
      "text/plain": [
       "48"
      ]
     },
     "execution_count": 8,
     "metadata": {},
     "output_type": "execute_result"
    }
   ],
   "source": [
    "surveys_df['species_id'].nunique()"
   ]
  },
  {
   "cell_type": "markdown",
   "metadata": {},
   "source": [
    "Why does `surveys_df['species_id'].nunique()` report 48 species while `len(species_ids)` returns 49? guessing NA values are dropped in `nunique()`?"
   ]
  },
  {
   "cell_type": "code",
   "execution_count": 9,
   "metadata": {},
   "outputs": [
    {
     "data": {
      "text/plain": [
       "array(['NL', 'DM', 'PF', 'PE', 'DS', 'PP', 'SH', 'OT', 'DO', 'OX', 'SS',\n",
       "       'OL', 'RM', nan, 'SA', 'PM', 'AH', 'DX', 'AB', 'CB', 'CM', 'CQ',\n",
       "       'RF', 'PC', 'PG', 'PH', 'PU', 'CV', 'UR', 'UP', 'ZL', 'UL', 'CS',\n",
       "       'SC', 'BA', 'SF', 'RO', 'AS', 'SO', 'PI', 'ST', 'CU', 'SU', 'RX',\n",
       "       'PB', 'PL', 'PX', 'CT', 'US'], dtype=object)"
      ]
     },
     "execution_count": 9,
     "metadata": {},
     "output_type": "execute_result"
    }
   ],
   "source": [
    "species_ids"
   ]
  },
  {
   "cell_type": "code",
   "execution_count": 10,
   "metadata": {},
   "outputs": [
    {
     "data": {
      "text/plain": [
       "48"
      ]
     },
     "execution_count": 10,
     "metadata": {},
     "output_type": "execute_result"
    }
   ],
   "source": [
    "surveys_df['species_id'].nunique()"
   ]
  },
  {
   "cell_type": "code",
   "execution_count": 11,
   "metadata": {},
   "outputs": [
    {
     "data": {
      "text/plain": [
       "(2, 8)"
      ]
     },
     "execution_count": 11,
     "metadata": {},
     "output_type": "execute_result"
    }
   ],
   "source": [
    "x = surveys_df.describe()\n",
    "gp_data = surveys_df.groupby('sex')\n",
    "y = gp_data['weight'].describe()\n",
    "x.shape\n",
    "y.shape"
   ]
  },
  {
   "cell_type": "code",
   "execution_count": 12,
   "metadata": {},
   "outputs": [
    {
     "data": {
      "text/plain": [
       "(2, 7)"
      ]
     },
     "execution_count": 12,
     "metadata": {},
     "output_type": "execute_result"
    }
   ],
   "source": [
    "x = gp_data.mean(numeric_only = True)\n",
    "x.shape"
   ]
  },
  {
   "cell_type": "code",
   "execution_count": 13,
   "metadata": {},
   "outputs": [],
   "source": [
    "# surveys_df.columns\n",
    "# gp_data.columns    # why does a grouped data frame have no columns attribute like an ungrouped one?"
   ]
  },
  {
   "cell_type": "code",
   "execution_count": 14,
   "metadata": {},
   "outputs": [
    {
     "data": {
      "text/plain": [
       "record_id            int64\n",
       "month                int64\n",
       "day                  int64\n",
       "year                 int64\n",
       "plot_id              int64\n",
       "species_id          object\n",
       "sex                 object\n",
       "hindfoot_length    float64\n",
       "weight             float64\n",
       "dtype: object"
      ]
     },
     "execution_count": 14,
     "metadata": {},
     "output_type": "execute_result"
    }
   ],
   "source": [
    "surveys_df.dtypes"
   ]
  },
  {
   "cell_type": "markdown",
   "metadata": {},
   "source": [
    "how many recorded individuals are female vs male?"
   ]
  },
  {
   "cell_type": "code",
   "execution_count": 15,
   "metadata": {},
   "outputs": [
    {
     "data": {
      "text/plain": [
       "sex\n",
       "F    15690\n",
       "M    17348\n",
       "Name: sex, dtype: int64"
      ]
     },
     "execution_count": 15,
     "metadata": {},
     "output_type": "execute_result"
    }
   ],
   "source": [
    "gp_sex_df = surveys_df.groupby('sex')\n",
    "gp_sex_df['sex'].count()"
   ]
  },
  {
   "cell_type": "code",
   "execution_count": 16,
   "metadata": {},
   "outputs": [
    {
     "data": {
      "text/html": [
       "<div>\n",
       "<style scoped>\n",
       "    .dataframe tbody tr th:only-of-type {\n",
       "        vertical-align: middle;\n",
       "    }\n",
       "\n",
       "    .dataframe tbody tr th {\n",
       "        vertical-align: top;\n",
       "    }\n",
       "\n",
       "    .dataframe thead th {\n",
       "        text-align: right;\n",
       "    }\n",
       "</style>\n",
       "<table border=\"1\" class=\"dataframe\">\n",
       "  <thead>\n",
       "    <tr style=\"text-align: right;\">\n",
       "      <th></th>\n",
       "      <th></th>\n",
       "      <th>record_id</th>\n",
       "      <th>month</th>\n",
       "      <th>day</th>\n",
       "      <th>year</th>\n",
       "      <th>hindfoot_length</th>\n",
       "      <th>weight</th>\n",
       "    </tr>\n",
       "    <tr>\n",
       "      <th>plot_id</th>\n",
       "      <th>sex</th>\n",
       "      <th></th>\n",
       "      <th></th>\n",
       "      <th></th>\n",
       "      <th></th>\n",
       "      <th></th>\n",
       "      <th></th>\n",
       "    </tr>\n",
       "  </thead>\n",
       "  <tbody>\n",
       "    <tr>\n",
       "      <th rowspan=\"2\" valign=\"top\">1</th>\n",
       "      <th>F</th>\n",
       "      <td>18390.384434</td>\n",
       "      <td>6.597877</td>\n",
       "      <td>15.338443</td>\n",
       "      <td>1990.933962</td>\n",
       "      <td>31.733911</td>\n",
       "      <td>46.311138</td>\n",
       "    </tr>\n",
       "    <tr>\n",
       "      <th>M</th>\n",
       "      <td>17197.740639</td>\n",
       "      <td>6.121461</td>\n",
       "      <td>15.905936</td>\n",
       "      <td>1990.091324</td>\n",
       "      <td>34.302770</td>\n",
       "      <td>55.950560</td>\n",
       "    </tr>\n",
       "    <tr>\n",
       "      <th rowspan=\"2\" valign=\"top\">2</th>\n",
       "      <th>F</th>\n",
       "      <td>17714.753608</td>\n",
       "      <td>6.426804</td>\n",
       "      <td>16.288660</td>\n",
       "      <td>1990.449485</td>\n",
       "      <td>30.161220</td>\n",
       "      <td>52.561845</td>\n",
       "    </tr>\n",
       "    <tr>\n",
       "      <th>M</th>\n",
       "      <td>18085.458042</td>\n",
       "      <td>6.340035</td>\n",
       "      <td>15.440559</td>\n",
       "      <td>1990.756119</td>\n",
       "      <td>30.353760</td>\n",
       "      <td>51.391382</td>\n",
       "    </tr>\n",
       "    <tr>\n",
       "      <th rowspan=\"2\" valign=\"top\">3</th>\n",
       "      <th>F</th>\n",
       "      <td>19888.783875</td>\n",
       "      <td>6.610302</td>\n",
       "      <td>15.993281</td>\n",
       "      <td>1992.013438</td>\n",
       "      <td>23.774044</td>\n",
       "      <td>31.215349</td>\n",
       "    </tr>\n",
       "    <tr>\n",
       "      <th>M</th>\n",
       "      <td>20226.767857</td>\n",
       "      <td>6.277381</td>\n",
       "      <td>16.271429</td>\n",
       "      <td>1992.275000</td>\n",
       "      <td>23.833744</td>\n",
       "      <td>34.163241</td>\n",
       "    </tr>\n",
       "    <tr>\n",
       "      <th rowspan=\"2\" valign=\"top\">4</th>\n",
       "      <th>F</th>\n",
       "      <td>17489.205275</td>\n",
       "      <td>6.447248</td>\n",
       "      <td>15.608945</td>\n",
       "      <td>1990.235092</td>\n",
       "      <td>33.249102</td>\n",
       "      <td>46.818824</td>\n",
       "    </tr>\n",
       "    <tr>\n",
       "      <th>M</th>\n",
       "      <td>18493.841748</td>\n",
       "      <td>6.436893</td>\n",
       "      <td>16.303883</td>\n",
       "      <td>1991.000971</td>\n",
       "      <td>34.097959</td>\n",
       "      <td>48.888119</td>\n",
       "    </tr>\n",
       "    <tr>\n",
       "      <th rowspan=\"2\" valign=\"top\">5</th>\n",
       "      <th>F</th>\n",
       "      <td>12280.793169</td>\n",
       "      <td>6.142315</td>\n",
       "      <td>15.722960</td>\n",
       "      <td>1986.485769</td>\n",
       "      <td>28.921844</td>\n",
       "      <td>40.974806</td>\n",
       "    </tr>\n",
       "    <tr>\n",
       "      <th>M</th>\n",
       "      <td>12798.426621</td>\n",
       "      <td>6.194539</td>\n",
       "      <td>15.703072</td>\n",
       "      <td>1986.817406</td>\n",
       "      <td>29.694794</td>\n",
       "      <td>40.708551</td>\n",
       "    </tr>\n",
       "    <tr>\n",
       "      <th rowspan=\"2\" valign=\"top\">6</th>\n",
       "      <th>F</th>\n",
       "      <td>19406.503392</td>\n",
       "      <td>6.640434</td>\n",
       "      <td>15.947083</td>\n",
       "      <td>1991.579376</td>\n",
       "      <td>26.981322</td>\n",
       "      <td>36.352288</td>\n",
       "    </tr>\n",
       "    <tr>\n",
       "      <th>M</th>\n",
       "      <td>17849.574607</td>\n",
       "      <td>6.043194</td>\n",
       "      <td>15.856021</td>\n",
       "      <td>1990.556283</td>\n",
       "      <td>27.425591</td>\n",
       "      <td>36.867388</td>\n",
       "    </tr>\n",
       "    <tr>\n",
       "      <th rowspan=\"2\" valign=\"top\">7</th>\n",
       "      <th>F</th>\n",
       "      <td>19069.668657</td>\n",
       "      <td>6.385075</td>\n",
       "      <td>15.313433</td>\n",
       "      <td>1991.441791</td>\n",
       "      <td>19.779553</td>\n",
       "      <td>20.006135</td>\n",
       "    </tr>\n",
       "    <tr>\n",
       "      <th>M</th>\n",
       "      <td>19188.729642</td>\n",
       "      <td>6.719870</td>\n",
       "      <td>15.778502</td>\n",
       "      <td>1991.462541</td>\n",
       "      <td>20.536667</td>\n",
       "      <td>21.194719</td>\n",
       "    </tr>\n",
       "    <tr>\n",
       "      <th rowspan=\"2\" valign=\"top\">8</th>\n",
       "      <th>F</th>\n",
       "      <td>18920.276190</td>\n",
       "      <td>6.644048</td>\n",
       "      <td>15.479762</td>\n",
       "      <td>1991.267857</td>\n",
       "      <td>32.187578</td>\n",
       "      <td>45.623011</td>\n",
       "    </tr>\n",
       "    <tr>\n",
       "      <th>M</th>\n",
       "      <td>19452.109868</td>\n",
       "      <td>6.585961</td>\n",
       "      <td>15.427263</td>\n",
       "      <td>1991.686673</td>\n",
       "      <td>33.751059</td>\n",
       "      <td>49.641372</td>\n",
       "    </tr>\n",
       "    <tr>\n",
       "      <th rowspan=\"2\" valign=\"top\">9</th>\n",
       "      <th>F</th>\n",
       "      <td>16217.497069</td>\n",
       "      <td>6.507620</td>\n",
       "      <td>15.309496</td>\n",
       "      <td>1989.303634</td>\n",
       "      <td>35.126092</td>\n",
       "      <td>53.618469</td>\n",
       "    </tr>\n",
       "    <tr>\n",
       "      <th>M</th>\n",
       "      <td>18000.710159</td>\n",
       "      <td>6.369522</td>\n",
       "      <td>14.970120</td>\n",
       "      <td>1990.632470</td>\n",
       "      <td>34.175732</td>\n",
       "      <td>49.519309</td>\n",
       "    </tr>\n",
       "    <tr>\n",
       "      <th rowspan=\"2\" valign=\"top\">10</th>\n",
       "      <th>F</th>\n",
       "      <td>16001.496454</td>\n",
       "      <td>5.588652</td>\n",
       "      <td>16.964539</td>\n",
       "      <td>1989.248227</td>\n",
       "      <td>18.641791</td>\n",
       "      <td>17.094203</td>\n",
       "    </tr>\n",
       "    <tr>\n",
       "      <th>M</th>\n",
       "      <td>15708.704225</td>\n",
       "      <td>5.718310</td>\n",
       "      <td>16.739437</td>\n",
       "      <td>1989.007042</td>\n",
       "      <td>19.567164</td>\n",
       "      <td>19.971223</td>\n",
       "    </tr>\n",
       "    <tr>\n",
       "      <th rowspan=\"2\" valign=\"top\">11</th>\n",
       "      <th>F</th>\n",
       "      <td>16994.962287</td>\n",
       "      <td>6.770073</td>\n",
       "      <td>15.954988</td>\n",
       "      <td>1989.836983</td>\n",
       "      <td>32.029299</td>\n",
       "      <td>43.515075</td>\n",
       "    </tr>\n",
       "    <tr>\n",
       "      <th>M</th>\n",
       "      <td>16933.909621</td>\n",
       "      <td>6.379981</td>\n",
       "      <td>15.799806</td>\n",
       "      <td>1989.856171</td>\n",
       "      <td>32.078014</td>\n",
       "      <td>43.366197</td>\n",
       "    </tr>\n",
       "    <tr>\n",
       "      <th rowspan=\"2\" valign=\"top\">12</th>\n",
       "      <th>F</th>\n",
       "      <td>17457.966981</td>\n",
       "      <td>6.509434</td>\n",
       "      <td>16.305660</td>\n",
       "      <td>1990.266981</td>\n",
       "      <td>30.975124</td>\n",
       "      <td>49.831731</td>\n",
       "    </tr>\n",
       "    <tr>\n",
       "      <th>M</th>\n",
       "      <td>17592.327500</td>\n",
       "      <td>6.304167</td>\n",
       "      <td>16.367500</td>\n",
       "      <td>1990.400833</td>\n",
       "      <td>31.762489</td>\n",
       "      <td>48.909710</td>\n",
       "    </tr>\n",
       "    <tr>\n",
       "      <th rowspan=\"2\" valign=\"top\">13</th>\n",
       "      <th>F</th>\n",
       "      <td>18033.100318</td>\n",
       "      <td>6.815287</td>\n",
       "      <td>15.847134</td>\n",
       "      <td>1990.619427</td>\n",
       "      <td>27.201014</td>\n",
       "      <td>40.524590</td>\n",
       "    </tr>\n",
       "    <tr>\n",
       "      <th>M</th>\n",
       "      <td>16969.044700</td>\n",
       "      <td>6.485313</td>\n",
       "      <td>15.851852</td>\n",
       "      <td>1989.911877</td>\n",
       "      <td>27.893793</td>\n",
       "      <td>40.097754</td>\n",
       "    </tr>\n",
       "    <tr>\n",
       "      <th rowspan=\"2\" valign=\"top\">14</th>\n",
       "      <th>F</th>\n",
       "      <td>17097.145275</td>\n",
       "      <td>6.519041</td>\n",
       "      <td>16.427362</td>\n",
       "      <td>1989.974612</td>\n",
       "      <td>32.973373</td>\n",
       "      <td>47.355491</td>\n",
       "    </tr>\n",
       "    <tr>\n",
       "      <th>M</th>\n",
       "      <td>17891.948598</td>\n",
       "      <td>6.666355</td>\n",
       "      <td>16.336449</td>\n",
       "      <td>1990.587850</td>\n",
       "      <td>32.961802</td>\n",
       "      <td>45.159378</td>\n",
       "    </tr>\n",
       "    <tr>\n",
       "      <th rowspan=\"2\" valign=\"top\">15</th>\n",
       "      <th>F</th>\n",
       "      <td>20602.449064</td>\n",
       "      <td>6.582121</td>\n",
       "      <td>15.787942</td>\n",
       "      <td>1992.523909</td>\n",
       "      <td>21.949891</td>\n",
       "      <td>26.670236</td>\n",
       "    </tr>\n",
       "    <tr>\n",
       "      <th>M</th>\n",
       "      <td>18104.019560</td>\n",
       "      <td>6.193154</td>\n",
       "      <td>17.193154</td>\n",
       "      <td>1990.770171</td>\n",
       "      <td>21.803109</td>\n",
       "      <td>27.523691</td>\n",
       "    </tr>\n",
       "    <tr>\n",
       "      <th rowspan=\"2\" valign=\"top\">16</th>\n",
       "      <th>F</th>\n",
       "      <td>19002.445946</td>\n",
       "      <td>6.369369</td>\n",
       "      <td>16.549550</td>\n",
       "      <td>1991.351351</td>\n",
       "      <td>23.144928</td>\n",
       "      <td>25.810427</td>\n",
       "    </tr>\n",
       "    <tr>\n",
       "      <th>M</th>\n",
       "      <td>18434.714286</td>\n",
       "      <td>6.208791</td>\n",
       "      <td>16.402930</td>\n",
       "      <td>1990.926740</td>\n",
       "      <td>23.480916</td>\n",
       "      <td>23.811321</td>\n",
       "    </tr>\n",
       "    <tr>\n",
       "      <th rowspan=\"2\" valign=\"top\">17</th>\n",
       "      <th>F</th>\n",
       "      <td>18234.322870</td>\n",
       "      <td>6.650224</td>\n",
       "      <td>15.892377</td>\n",
       "      <td>1990.785874</td>\n",
       "      <td>30.918536</td>\n",
       "      <td>48.176201</td>\n",
       "    </tr>\n",
       "    <tr>\n",
       "      <th>M</th>\n",
       "      <td>18857.651472</td>\n",
       "      <td>6.569801</td>\n",
       "      <td>16.183286</td>\n",
       "      <td>1991.331434</td>\n",
       "      <td>32.227634</td>\n",
       "      <td>47.558853</td>\n",
       "    </tr>\n",
       "    <tr>\n",
       "      <th rowspan=\"2\" valign=\"top\">18</th>\n",
       "      <th>F</th>\n",
       "      <td>17940.875497</td>\n",
       "      <td>6.698013</td>\n",
       "      <td>15.960265</td>\n",
       "      <td>1990.536424</td>\n",
       "      <td>26.690341</td>\n",
       "      <td>36.963514</td>\n",
       "    </tr>\n",
       "    <tr>\n",
       "      <th>M</th>\n",
       "      <td>15106.718850</td>\n",
       "      <td>6.610224</td>\n",
       "      <td>16.797125</td>\n",
       "      <td>1988.551118</td>\n",
       "      <td>27.703072</td>\n",
       "      <td>43.546952</td>\n",
       "    </tr>\n",
       "    <tr>\n",
       "      <th rowspan=\"2\" valign=\"top\">19</th>\n",
       "      <th>F</th>\n",
       "      <td>21848.216475</td>\n",
       "      <td>6.701149</td>\n",
       "      <td>15.226054</td>\n",
       "      <td>1993.417625</td>\n",
       "      <td>21.257937</td>\n",
       "      <td>21.978599</td>\n",
       "    </tr>\n",
       "    <tr>\n",
       "      <th>M</th>\n",
       "      <td>19470.779690</td>\n",
       "      <td>6.533563</td>\n",
       "      <td>16.647160</td>\n",
       "      <td>1991.740103</td>\n",
       "      <td>21.071685</td>\n",
       "      <td>20.306878</td>\n",
       "    </tr>\n",
       "    <tr>\n",
       "      <th rowspan=\"2\" valign=\"top\">20</th>\n",
       "      <th>F</th>\n",
       "      <td>17510.769231</td>\n",
       "      <td>6.743077</td>\n",
       "      <td>16.026154</td>\n",
       "      <td>1990.253846</td>\n",
       "      <td>27.069193</td>\n",
       "      <td>52.624406</td>\n",
       "    </tr>\n",
       "    <tr>\n",
       "      <th>M</th>\n",
       "      <td>16076.192496</td>\n",
       "      <td>6.489396</td>\n",
       "      <td>16.375204</td>\n",
       "      <td>1989.243067</td>\n",
       "      <td>27.908451</td>\n",
       "      <td>44.197279</td>\n",
       "    </tr>\n",
       "    <tr>\n",
       "      <th rowspan=\"2\" valign=\"top\">21</th>\n",
       "      <th>F</th>\n",
       "      <td>22452.636661</td>\n",
       "      <td>6.860884</td>\n",
       "      <td>16.307692</td>\n",
       "      <td>1993.878887</td>\n",
       "      <td>22.366554</td>\n",
       "      <td>25.974832</td>\n",
       "    </tr>\n",
       "    <tr>\n",
       "      <th>M</th>\n",
       "      <td>20120.399113</td>\n",
       "      <td>6.671840</td>\n",
       "      <td>16.203991</td>\n",
       "      <td>1992.199557</td>\n",
       "      <td>21.736721</td>\n",
       "      <td>22.772622</td>\n",
       "    </tr>\n",
       "    <tr>\n",
       "      <th rowspan=\"2\" valign=\"top\">22</th>\n",
       "      <th>F</th>\n",
       "      <td>18499.695976</td>\n",
       "      <td>6.651267</td>\n",
       "      <td>15.521610</td>\n",
       "      <td>1990.973174</td>\n",
       "      <td>34.108320</td>\n",
       "      <td>53.647059</td>\n",
       "    </tr>\n",
       "    <tr>\n",
       "      <th>M</th>\n",
       "      <td>18015.365527</td>\n",
       "      <td>6.381872</td>\n",
       "      <td>16.682021</td>\n",
       "      <td>1990.650817</td>\n",
       "      <td>33.359746</td>\n",
       "      <td>54.572531</td>\n",
       "    </tr>\n",
       "    <tr>\n",
       "      <th rowspan=\"2\" valign=\"top\">23</th>\n",
       "      <th>F</th>\n",
       "      <td>15863.193939</td>\n",
       "      <td>6.860606</td>\n",
       "      <td>16.036364</td>\n",
       "      <td>1989.024242</td>\n",
       "      <td>20.051948</td>\n",
       "      <td>20.564417</td>\n",
       "    </tr>\n",
       "    <tr>\n",
       "      <th>M</th>\n",
       "      <td>17091.338164</td>\n",
       "      <td>6.391304</td>\n",
       "      <td>16.077295</td>\n",
       "      <td>1989.961353</td>\n",
       "      <td>19.850000</td>\n",
       "      <td>18.941463</td>\n",
       "    </tr>\n",
       "    <tr>\n",
       "      <th rowspan=\"2\" valign=\"top\">24</th>\n",
       "      <th>F</th>\n",
       "      <td>13702.224280</td>\n",
       "      <td>6.596708</td>\n",
       "      <td>16.393004</td>\n",
       "      <td>1987.485597</td>\n",
       "      <td>26.993377</td>\n",
       "      <td>47.914405</td>\n",
       "    </tr>\n",
       "    <tr>\n",
       "      <th>M</th>\n",
       "      <td>15208.136082</td>\n",
       "      <td>6.360825</td>\n",
       "      <td>16.971134</td>\n",
       "      <td>1988.641237</td>\n",
       "      <td>25.786996</td>\n",
       "      <td>39.321503</td>\n",
       "    </tr>\n",
       "  </tbody>\n",
       "</table>\n",
       "</div>"
      ],
      "text/plain": [
       "                record_id     month        day         year  hindfoot_length  \\\n",
       "plot_id sex                                                                    \n",
       "1       F    18390.384434  6.597877  15.338443  1990.933962        31.733911   \n",
       "        M    17197.740639  6.121461  15.905936  1990.091324        34.302770   \n",
       "2       F    17714.753608  6.426804  16.288660  1990.449485        30.161220   \n",
       "        M    18085.458042  6.340035  15.440559  1990.756119        30.353760   \n",
       "3       F    19888.783875  6.610302  15.993281  1992.013438        23.774044   \n",
       "        M    20226.767857  6.277381  16.271429  1992.275000        23.833744   \n",
       "4       F    17489.205275  6.447248  15.608945  1990.235092        33.249102   \n",
       "        M    18493.841748  6.436893  16.303883  1991.000971        34.097959   \n",
       "5       F    12280.793169  6.142315  15.722960  1986.485769        28.921844   \n",
       "        M    12798.426621  6.194539  15.703072  1986.817406        29.694794   \n",
       "6       F    19406.503392  6.640434  15.947083  1991.579376        26.981322   \n",
       "        M    17849.574607  6.043194  15.856021  1990.556283        27.425591   \n",
       "7       F    19069.668657  6.385075  15.313433  1991.441791        19.779553   \n",
       "        M    19188.729642  6.719870  15.778502  1991.462541        20.536667   \n",
       "8       F    18920.276190  6.644048  15.479762  1991.267857        32.187578   \n",
       "        M    19452.109868  6.585961  15.427263  1991.686673        33.751059   \n",
       "9       F    16217.497069  6.507620  15.309496  1989.303634        35.126092   \n",
       "        M    18000.710159  6.369522  14.970120  1990.632470        34.175732   \n",
       "10      F    16001.496454  5.588652  16.964539  1989.248227        18.641791   \n",
       "        M    15708.704225  5.718310  16.739437  1989.007042        19.567164   \n",
       "11      F    16994.962287  6.770073  15.954988  1989.836983        32.029299   \n",
       "        M    16933.909621  6.379981  15.799806  1989.856171        32.078014   \n",
       "12      F    17457.966981  6.509434  16.305660  1990.266981        30.975124   \n",
       "        M    17592.327500  6.304167  16.367500  1990.400833        31.762489   \n",
       "13      F    18033.100318  6.815287  15.847134  1990.619427        27.201014   \n",
       "        M    16969.044700  6.485313  15.851852  1989.911877        27.893793   \n",
       "14      F    17097.145275  6.519041  16.427362  1989.974612        32.973373   \n",
       "        M    17891.948598  6.666355  16.336449  1990.587850        32.961802   \n",
       "15      F    20602.449064  6.582121  15.787942  1992.523909        21.949891   \n",
       "        M    18104.019560  6.193154  17.193154  1990.770171        21.803109   \n",
       "16      F    19002.445946  6.369369  16.549550  1991.351351        23.144928   \n",
       "        M    18434.714286  6.208791  16.402930  1990.926740        23.480916   \n",
       "17      F    18234.322870  6.650224  15.892377  1990.785874        30.918536   \n",
       "        M    18857.651472  6.569801  16.183286  1991.331434        32.227634   \n",
       "18      F    17940.875497  6.698013  15.960265  1990.536424        26.690341   \n",
       "        M    15106.718850  6.610224  16.797125  1988.551118        27.703072   \n",
       "19      F    21848.216475  6.701149  15.226054  1993.417625        21.257937   \n",
       "        M    19470.779690  6.533563  16.647160  1991.740103        21.071685   \n",
       "20      F    17510.769231  6.743077  16.026154  1990.253846        27.069193   \n",
       "        M    16076.192496  6.489396  16.375204  1989.243067        27.908451   \n",
       "21      F    22452.636661  6.860884  16.307692  1993.878887        22.366554   \n",
       "        M    20120.399113  6.671840  16.203991  1992.199557        21.736721   \n",
       "22      F    18499.695976  6.651267  15.521610  1990.973174        34.108320   \n",
       "        M    18015.365527  6.381872  16.682021  1990.650817        33.359746   \n",
       "23      F    15863.193939  6.860606  16.036364  1989.024242        20.051948   \n",
       "        M    17091.338164  6.391304  16.077295  1989.961353        19.850000   \n",
       "24      F    13702.224280  6.596708  16.393004  1987.485597        26.993377   \n",
       "        M    15208.136082  6.360825  16.971134  1988.641237        25.786996   \n",
       "\n",
       "                weight  \n",
       "plot_id sex             \n",
       "1       F    46.311138  \n",
       "        M    55.950560  \n",
       "2       F    52.561845  \n",
       "        M    51.391382  \n",
       "3       F    31.215349  \n",
       "        M    34.163241  \n",
       "4       F    46.818824  \n",
       "        M    48.888119  \n",
       "5       F    40.974806  \n",
       "        M    40.708551  \n",
       "6       F    36.352288  \n",
       "        M    36.867388  \n",
       "7       F    20.006135  \n",
       "        M    21.194719  \n",
       "8       F    45.623011  \n",
       "        M    49.641372  \n",
       "9       F    53.618469  \n",
       "        M    49.519309  \n",
       "10      F    17.094203  \n",
       "        M    19.971223  \n",
       "11      F    43.515075  \n",
       "        M    43.366197  \n",
       "12      F    49.831731  \n",
       "        M    48.909710  \n",
       "13      F    40.524590  \n",
       "        M    40.097754  \n",
       "14      F    47.355491  \n",
       "        M    45.159378  \n",
       "15      F    26.670236  \n",
       "        M    27.523691  \n",
       "16      F    25.810427  \n",
       "        M    23.811321  \n",
       "17      F    48.176201  \n",
       "        M    47.558853  \n",
       "18      F    36.963514  \n",
       "        M    43.546952  \n",
       "19      F    21.978599  \n",
       "        M    20.306878  \n",
       "20      F    52.624406  \n",
       "        M    44.197279  \n",
       "21      F    25.974832  \n",
       "        M    22.772622  \n",
       "22      F    53.647059  \n",
       "        M    54.572531  \n",
       "23      F    20.564417  \n",
       "        M    18.941463  \n",
       "24      F    47.914405  \n",
       "        M    39.321503  "
      ]
     },
     "execution_count": 16,
     "metadata": {},
     "output_type": "execute_result"
    }
   ],
   "source": [
    "grouped_data2 = surveys_df.groupby(['plot_id', 'sex'])\n",
    "grouped_data2.mean(numeric_only=True)"
   ]
  },
  {
   "cell_type": "code",
   "execution_count": 17,
   "metadata": {},
   "outputs": [
    {
     "data": {
      "text/plain": [
       "plot_id  sex\n",
       "1        F      46.311138\n",
       "         M      55.950560\n",
       "2        F      52.561845\n",
       "         M      51.391382\n",
       "3        F      31.215349\n",
       "         M      34.163241\n",
       "4        F      46.818824\n",
       "         M      48.888119\n",
       "5        F      40.974806\n",
       "         M      40.708551\n",
       "6        F      36.352288\n",
       "         M      36.867388\n",
       "7        F      20.006135\n",
       "         M      21.194719\n",
       "8        F      45.623011\n",
       "         M      49.641372\n",
       "9        F      53.618469\n",
       "         M      49.519309\n",
       "10       F      17.094203\n",
       "         M      19.971223\n",
       "11       F      43.515075\n",
       "         M      43.366197\n",
       "12       F      49.831731\n",
       "         M      48.909710\n",
       "13       F      40.524590\n",
       "         M      40.097754\n",
       "14       F      47.355491\n",
       "         M      45.159378\n",
       "15       F      26.670236\n",
       "         M      27.523691\n",
       "16       F      25.810427\n",
       "         M      23.811321\n",
       "17       F      48.176201\n",
       "         M      47.558853\n",
       "18       F      36.963514\n",
       "         M      43.546952\n",
       "19       F      21.978599\n",
       "         M      20.306878\n",
       "20       F      52.624406\n",
       "         M      44.197279\n",
       "21       F      25.974832\n",
       "         M      22.772622\n",
       "22       F      53.647059\n",
       "         M      54.572531\n",
       "23       F      20.564417\n",
       "         M      18.941463\n",
       "24       F      47.914405\n",
       "         M      39.321503\n",
       "Name: weight, dtype: float64"
      ]
     },
     "execution_count": 17,
     "metadata": {},
     "output_type": "execute_result"
    }
   ],
   "source": [
    "gp_site = surveys_df.groupby(['plot_id', 'sex'])\n",
    "gp_site['weight'].mean()"
   ]
  },
  {
   "cell_type": "code",
   "execution_count": 18,
   "metadata": {},
   "outputs": [
    {
     "name": "stdout",
     "output_type": "stream",
     "text": [
      "species_id\n",
      "AB      303\n",
      "AH      437\n",
      "AS        2\n",
      "BA       46\n",
      "CB       50\n",
      "CM       13\n",
      "CQ       16\n",
      "CS        1\n",
      "CT        1\n",
      "CU        1\n",
      "CV        1\n",
      "DM    10596\n",
      "DO     3027\n",
      "DS     2504\n",
      "DX       40\n",
      "NL     1252\n",
      "OL     1006\n",
      "OT     2249\n",
      "OX       12\n",
      "PB     2891\n",
      "PC       39\n",
      "PE     1299\n",
      "PF     1597\n",
      "PG        8\n",
      "PH       32\n",
      "PI        9\n",
      "PL       36\n",
      "PM      899\n",
      "PP     3123\n",
      "PU        5\n",
      "PX        6\n",
      "RF       75\n",
      "RM     2609\n",
      "RO        8\n",
      "RX        2\n",
      "SA       75\n",
      "SC        1\n",
      "SF       43\n",
      "SH      147\n",
      "SO       43\n",
      "SS      248\n",
      "ST        1\n",
      "SU        5\n",
      "UL        4\n",
      "UP        8\n",
      "UR       10\n",
      "US        4\n",
      "ZL        2\n",
      "Name: record_id, dtype: int64\n"
     ]
    }
   ],
   "source": [
    "species_counts = surveys_df.groupby('species_id')['record_id'].count()\n",
    "print(species_counts)"
   ]
  },
  {
   "cell_type": "code",
   "execution_count": 19,
   "metadata": {},
   "outputs": [
    {
     "data": {
      "text/plain": [
       "<Axes: xlabel='species_id'>"
      ]
     },
     "execution_count": 19,
     "metadata": {},
     "output_type": "execute_result"
    },
    {
     "data": {
      "image/png": "[encoded data removed]",
      "text/plain": [
       "<Figure size 640x480 with 1 Axes>"
      ]
     },
     "metadata": {},
     "output_type": "display_data"
    }
   ],
   "source": [
    "%matplotlib inline\n",
    "\n",
    "species_counts.plot(kind = 'bar')"
   ]
  },
  {
   "cell_type": "code",
   "execution_count": 20,
   "metadata": {},
   "outputs": [
    {
     "data": {
      "text/plain": [
       "<Axes: xlabel='plot_id'>"
      ]
     },
     "execution_count": 20,
     "metadata": {},
     "output_type": "execute_result"
    },
    {
     "data": {
      "image/png": "[encoded data removed]",
      "text/plain": [
       "<Figure size 640x480 with 1 Axes>"
      ]
     },
     "metadata": {},
     "output_type": "display_data"
    }
   ],
   "source": [
    "total_count = surveys_df.groupby('plot_id')['record_id'].count()\n",
    "total_count.plot(kind = 'bar')"
   ]
  },
  {
   "cell_type": "code",
   "execution_count": 21,
   "metadata": {},
   "outputs": [
    {
     "data": {
      "text/plain": [
       "<Axes: xlabel='plot_id'>"
      ]
     },
     "execution_count": 21,
     "metadata": {},
     "output_type": "execute_result"
    },
    {
     "data": {
      "image/png": "[encoded data removed]",
      "text/plain": [
       "<Figure size 640x480 with 1 Axes>"
      ]
     },
     "metadata": {},
     "output_type": "display_data"
    }
   ],
   "source": [
    "plot_wt_means = surveys_df.groupby('plot_id')['weight'].mean()\n",
    "plot_wt_means.plot(kind = 'bar')"
   ]
  },
  {
   "cell_type": "code",
   "execution_count": 22,
   "metadata": {},
   "outputs": [
    {
     "data": {
      "text/plain": [
       "<Axes: xlabel='sex'>"
      ]
     },
     "execution_count": 22,
     "metadata": {},
     "output_type": "execute_result"
    },
    {
     "data": {
      "image/png": "[encoded data removed]",
      "text/plain": [
       "<Figure size 640x480 with 1 Axes>"
      ]
     },
     "metadata": {},
     "output_type": "display_data"
    }
   ],
   "source": [
    "surveys_df.groupby('sex').count()['record_id'].plot(kind = 'bar')"
   ]
  },
  {
   "cell_type": "code",
   "execution_count": 23,
   "metadata": {},
   "outputs": [
    {
     "data": {
      "text/plain": [
       "species_id\n",
       "AB      303\n",
       "AH      437\n",
       "AS        2\n",
       "BA       46\n",
       "CB       50\n",
       "CM       13\n",
       "CQ       16\n",
       "CS        1\n",
       "CT        1\n",
       "CU        1\n",
       "CV        1\n",
       "DM    10596\n",
       "DO     3027\n",
       "DS     2504\n",
       "DX       40\n",
       "NL     1252\n",
       "OL     1006\n",
       "OT     2249\n",
       "OX       12\n",
       "PB     2891\n",
       "PC       39\n",
       "PE     1299\n",
       "PF     1597\n",
       "PG        8\n",
       "PH       32\n",
       "PI        9\n",
       "PL       36\n",
       "PM      899\n",
       "PP     3123\n",
       "PU        5\n",
       "PX        6\n",
       "RF       75\n",
       "RM     2609\n",
       "RO        8\n",
       "RX        2\n",
       "SA       75\n",
       "SC        1\n",
       "SF       43\n",
       "SH      147\n",
       "SO       43\n",
       "SS      248\n",
       "ST        1\n",
       "SU        5\n",
       "UL        4\n",
       "UP        8\n",
       "UR       10\n",
       "US        4\n",
       "ZL        2\n",
       "Name: record_id, dtype: int64"
      ]
     },
     "execution_count": 23,
     "metadata": {},
     "output_type": "execute_result"
    }
   ],
   "source": [
    "surveys_df.groupby('species_id')['record_id'].count()"
   ]
  },
  {
   "cell_type": "code",
   "execution_count": 24,
   "metadata": {},
   "outputs": [
    {
     "data": {
      "image/png": "[encoded data removed]",
      "text/plain": [
       "<Figure size 640x480 with 1 Axes>"
      ]
     },
     "metadata": {},
     "output_type": "display_data"
    }
   ],
   "source": [
    "import matplotlib.pyplot as plt\n",
    "import numpy as np\n",
    "\n",
    "surveys = pd.read_csv('data/surveys.csv')\n",
    "my_plot = surveys.plot('hindfoot_length', 'weight', kind = 'scatter')\n"
   ]
  },
  {
   "cell_type": "code",
   "execution_count": 25,
   "metadata": {},
   "outputs": [
    {
     "data": {
      "text/plain": [
       "(array([  9.,  38., 108., 205., 245., 224., 109.,  39.,  18.,   5.]),\n",
       " array([-0.29829923, -0.23393955, -0.16957987, -0.10522018, -0.0408605 ,\n",
       "         0.02349918,  0.08785886,  0.15221854,  0.21657822,  0.28093791,\n",
       "         0.34529759]),\n",
       " <BarContainer object of 10 artists>)"
      ]
     },
     "execution_count": 25,
     "metadata": {},
     "output_type": "execute_result"
    },
    {
     "data": {
      "image/png": "[encoded data removed]",
      "text/plain": [
       "<Figure size 640x480 with 1 Axes>"
      ]
     },
     "metadata": {},
     "output_type": "display_data"
    }
   ],
   "source": [
    "sample_data = np.random.normal(0, .1, 1000)\n",
    "\n",
    "plt.hist(sample_data)"
   ]
  },
  {
   "cell_type": "code",
   "execution_count": 27,
   "metadata": {},
   "outputs": [
    {
     "data": {
      "text/plain": [
       "Text(0.5, 0, 'value')"
      ]
     },
     "execution_count": 27,
     "metadata": {},
     "output_type": "execute_result"
    },
    {
     "data": {
      "image/png": "[encoded data removed]",
      "text/plain": [
       "<Figure size 640x480 with 1 Axes>"
      ]
     },
     "metadata": {},
     "output_type": "display_data"
    }
   ],
   "source": [
    "fig, ax = plt.subplots()\n",
    "ax.hist(sample_data, 30)\n",
    "ax.set_ylabel('density')\n",
    "ax.set_xlabel('value')\n"
   ]
  },
  {
   "cell_type": "code",
   "execution_count": 30,
   "metadata": {},
   "outputs": [
    {
     "data": {
      "text/plain": [
       "(array([0., 0., 0., 0., 0., 1., 0., 0., 0., 0.]),\n",
       " array([-0.22963707, -0.12963707, -0.02963707,  0.07036293,  0.17036293,\n",
       "         0.27036293,  0.37036293,  0.47036293,  0.57036293,  0.67036293,\n",
       "         0.77036293]),\n",
       " <BarContainer object of 10 artists>)"
      ]
     },
     "execution_count": 30,
     "metadata": {},
     "output_type": "execute_result"
    },
    {
     "data": {
      "image/png": "[encoded data removed]",
      "text/plain": [
       "<Figure size 640x480 with 2 Axes>"
      ]
     },
     "metadata": {},
     "output_type": "display_data"
    }
   ],
   "source": [
    "fig, ax1 = plt.subplots()\n",
    "ax1.hist(sample_data, 30)\n",
    "ax1.set_ylabel('density')\n",
    "ax1.set_xlabel('value')\n",
    "a = 5\n",
    "b = 10\n",
    "beta_draws = np.random.beta(a, b)\n",
    "ax2 = fig.add_axes([0.125, .575, .3, .3])\n",
    "ax2.hist(beta_draws)"
   ]
  },
  {
   "cell_type": "code",
   "execution_count": 32,
   "metadata": {},
   "outputs": [
    {
     "data": {
      "text/plain": [
       "Text(0.5, 0.98, 'Scatterplot of weight vs hindfoot length')"
      ]
     },
     "execution_count": 32,
     "metadata": {},
     "output_type": "execute_result"
    },
    {
     "data": {
      "image/png": "[encoded data removed]",
      "text/plain": [
       "<Figure size 640x480 with 1 Axes>"
      ]
     },
     "metadata": {},
     "output_type": "display_data"
    }
   ],
   "source": [
    "fig, ax1 = plt.subplots()\n",
    "surveys.plot('hindfoot_length', 'weight', kind = 'scatter', ax = ax1)\n",
    "ax1.set_xlabel('Hind foot length')\n",
    "ax1.set_ylabel('Weight')\n",
    "fig.suptitle('Scatterplot of weight vs hindfoot length', fontsize = 15)"
   ]
  },
  {
   "cell_type": "code",
   "execution_count": 39,
   "metadata": {},
   "outputs": [
    {
     "name": "stderr",
     "output_type": "stream",
     "text": [
      "c:\\Users\\casey\\anaconda3\\Lib\\site-packages\\plotnine\\layer.py:364: PlotnineWarning: geom_point : Removed 4811 rows containing missing values.\n"
     ]
    }
   ],
   "source": [
    "import plotnine as p9\n",
    "\n",
    "myplot = (p9.ggplot(data = surveys,\n",
    "                     mapping = p9.aes(x = 'hindfoot_length', y = 'weight')) +\n",
    "                p9.geom_point())\n",
    "\n",
    "my_plt_version = myplot.draw()\n",
    "# p9_ax = my_plt_version.axes[0]\n",
    "# p9_ax.set_xlabel('Hindfoot length')\n",
    "# p9_ax.tick_params(labelsize = 16, pad = 8)\n",
    "# p9_ax.set_title('Scatterplot of wt vs hindfoot len', fontsize = 15)\n",
    "\n",
    "plt.show()"
   ]
  }
 ],
 "metadata": {
  "kernelspec": {
   "display_name": "base",
   "language": "python",
   "name": "python3"
  },
  "language_info": {
   "codemirror_mode": {
    "name": "ipython",
    "version": 3
   },
   "file_extension": ".py",
   "mimetype": "text/x-python",
   "name": "python",
   "nbconvert_exporter": "python",
   "pygments_lexer": "ipython3",
   "version": "3.11.4"
  },
  "orig_nbformat": 4
 },
 "nbformat": 4,
 "nbformat_minor": 2
}
